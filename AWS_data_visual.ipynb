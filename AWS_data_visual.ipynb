{
 "cells": [
  {
   "cell_type": "code",
   "execution_count": 1,
   "id": "0c3ca632-32d5-461b-ad96-b921e3611416",
   "metadata": {},
   "outputs": [],
   "source": [
    "import numpy as np \n",
    "import matplotlib.pyplot as plt \n",
    "import pandas as pd\n",
    "import os"
   ]
  },
  {
   "cell_type": "code",
   "execution_count": 60,
   "id": "8fd44d1f-38a3-4d3a-9d6d-c0812ec56ecc",
   "metadata": {},
   "outputs": [
    {
     "data": {
      "text/plain": [
       "'/home/sarathprabhav/AWS-DataProcessing/AWS_tower_TERLS'"
      ]
     },
     "execution_count": 60,
     "metadata": {},
     "output_type": "execute_result"
    }
   ],
   "source": [
    "os.getcwd()"
   ]
  },
  {
   "cell_type": "code",
   "execution_count": 65,
   "id": "3cde0a8c-2b29-4941-9c4f-780bfafd18fe",
   "metadata": {},
   "outputs": [],
   "source": [
    "def read_tripod_data(file,loc):\n",
    "    os.chdir(loc)\n",
    "    names_tripod=['Year', 'Month', 'Date', 'Hour', 'Minute', 'Second',\"RECORD\",\"Batt_Volt_Avg\",\n",
    "                  \"WS_ms_S_WVT\",\"WindDir_D1_WVT\",\"WindDir_SD1_WVT\",\n",
    "                  \"Slr_W_Avg\",\"Slr_MJ_Tot\",\"Rain_mm_Tot\",\"BP_Avg\",\"AT_Avg\",\"RH_Avg\",\"TdC_Avg\"]\n",
    "    return pd.read_csv(file,delimiter='\t',names=names_tripod,index_col=False)"
   ]
  },
  {
   "cell_type": "code",
   "execution_count": 66,
   "id": "757545e0-23ed-4246-83d5-35da642cb120",
   "metadata": {},
   "outputs": [],
   "source": [
    "def read_slow_r_data(file,loc):\n",
    "    os.chdir(loc)\n",
    "    return pd.read_csv('TERLS_Slow_response_2017_03_Mar.dat',delimiter='\t')"
   ]
  },
  {
   "cell_type": "code",
   "execution_count": 74,
   "id": "47ea733f-6632-46f2-a3ea-c9f1add7d5f4",
   "metadata": {},
   "outputs": [],
   "source": [
    "def get_names(prefix,loc):\n",
    "    os.chdir(loc)\n",
    "    return [filename for filename in os.listdir('.') if filename.startswith(prefix)]\n",
    "    "
   ]
  },
  {
   "cell_type": "code",
   "execution_count": null,
   "id": "423c76ba-1b00-4a51-8b57-21c6f9cf53c3",
   "metadata": {},
   "outputs": [
    {
     "data": {
      "text/plain": [
       "Index(['Year', 'Month', 'Date', 'Hour', 'Minute', 'Second', 'Record', 'WS_32m',\n",
       "       'WD_32m', 'WS_16m', 'WD_16m', 'WS_8m', 'WD_8m', 'WS_4m', 'WD_4m',\n",
       "       'WS_2m', 'WD_2m', 'AT_32m', 'RH_32m', 'AT_16m', 'RH_16m', 'AT_8m',\n",
       "       'RH_8m', 'AT_4m', 'RH_4m', 'AT_2m', 'RH_2m', 'Pressure'],\n",
       "      dtype='object')"
      ]
     },
     "execution_count": 10,
     "metadata": {},
     "output_type": "execute_result"
    }
   ],
   "source": [
    "df.columns"
   ]
  },
  {
   "cell_type": "code",
   "execution_count": null,
   "id": "56c6e3d2-ca77-4957-aacf-ad827b2565f7",
   "metadata": {},
   "outputs": [],
   "source": [
    "df_daily_avg = pd.DataFrame()\n",
    "for i in range(1,(df['Date'].max()+1)):\n",
    "    #print(i)\n",
    "    day_avg = df[df['Date']==i].mean()\n",
    "    day_avg = pd.DataFrame(day_avg).transpose()\n",
    "    df_daily_avg = pd.concat([df_daily_avg,day_avg])"
   ]
  },
  {
   "cell_type": "code",
   "execution_count": null,
   "id": "15682f2b-b998-46df-8bcd-3bc920b0f1df",
   "metadata": {},
   "outputs": [
    {
     "data": {
      "text/plain": [
       "<AxesSubplot:xlabel='Date'>"
      ]
     },
     "execution_count": 40,
     "metadata": {},
     "output_type": "execute_result"
    },
    {
     "data": {
      "image/png": "[encoded data removed]",
      "text/plain": [
       "<Figure size 432x288 with 1 Axes>"
      ]
     },
     "metadata": {
      "needs_background": "light"
     },
     "output_type": "display_data"
    }
   ],
   "source": [
    "df_daily_avg.plot(x ='Date',y='Pressure')"
   ]
  },
  {
   "cell_type": "code",
   "execution_count": null,
   "id": "bb0f2466-6245-41d0-a15b-b0468e30f0aa",
   "metadata": {},
   "outputs": [
    {
     "data": {
      "text/html": [
       "<div>\n",
       "<style scoped>\n",
       "    .dataframe tbody tr th:only-of-type {\n",
       "        vertical-align: middle;\n",
       "    }\n",
       "\n",
       "    .dataframe tbody tr th {\n",
       "        vertical-align: top;\n",
       "    }\n",
       "\n",
       "    .dataframe thead th {\n",
       "        text-align: right;\n",
       "    }\n",
       "</style>\n",
       "<table border=\"1\" class=\"dataframe\">\n",
       "  <thead>\n",
       "    <tr style=\"text-align: right;\">\n",
       "      <th></th>\n",
       "      <th>Year</th>\n",
       "      <th>Month</th>\n",
       "      <th>Date</th>\n",
       "      <th>Hour</th>\n",
       "      <th>Minute</th>\n",
       "      <th>Second</th>\n",
       "      <th>Record</th>\n",
       "      <th>WS_32m</th>\n",
       "      <th>WD_32m</th>\n",
       "      <th>WS_16m</th>\n",
       "      <th>...</th>\n",
       "      <th>RH_32m</th>\n",
       "      <th>AT_16m</th>\n",
       "      <th>RH_16m</th>\n",
       "      <th>AT_8m</th>\n",
       "      <th>RH_8m</th>\n",
       "      <th>AT_4m</th>\n",
       "      <th>RH_4m</th>\n",
       "      <th>AT_2m</th>\n",
       "      <th>RH_2m</th>\n",
       "      <th>Pressure</th>\n",
       "    </tr>\n",
       "  </thead>\n",
       "  <tbody>\n",
       "    <tr>\n",
       "      <th>0</th>\n",
       "      <td>2017.0</td>\n",
       "      <td>3.0</td>\n",
       "      <td>31.0</td>\n",
       "      <td>11.5</td>\n",
       "      <td>29.5</td>\n",
       "      <td>0.0</td>\n",
       "      <td>106245.5</td>\n",
       "      <td>2.392176</td>\n",
       "      <td>155.9139</td>\n",
       "      <td>1.78912</td>\n",
       "      <td>...</td>\n",
       "      <td>87.379102</td>\n",
       "      <td>28.377782</td>\n",
       "      <td>86.582188</td>\n",
       "      <td>27.992762</td>\n",
       "      <td>86.591201</td>\n",
       "      <td>28.586184</td>\n",
       "      <td>86.111136</td>\n",
       "      <td>28.603126</td>\n",
       "      <td>85.989632</td>\n",
       "      <td>1010.897357</td>\n",
       "    </tr>\n",
       "  </tbody>\n",
       "</table>\n",
       "<p>1 rows × 28 columns</p>\n",
       "</div>"
      ],
      "text/plain": [
       "     Year  Month  Date  Hour  Minute  Second    Record    WS_32m    WD_32m  \\\n",
       "0  2017.0    3.0  31.0  11.5    29.5     0.0  106245.5  2.392176  155.9139   \n",
       "\n",
       "    WS_16m  ...     RH_32m     AT_16m     RH_16m      AT_8m      RH_8m  \\\n",
       "0  1.78912  ...  87.379102  28.377782  86.582188  27.992762  86.591201   \n",
       "\n",
       "       AT_4m      RH_4m      AT_2m      RH_2m     Pressure  \n",
       "0  28.586184  86.111136  28.603126  85.989632  1010.897357  \n",
       "\n",
       "[1 rows x 28 columns]"
      ]
     },
     "execution_count": 11,
     "metadata": {},
     "output_type": "execute_result"
    }
   ],
   "source": [
    "df_x"
   ]
  },
  {
   "cell_type": "code",
   "execution_count": null,
   "id": "68c8d5e2-d5f8-49d7-a591-4c49439ddc02",
   "metadata": {},
   "outputs": [
    {
     "data": {
      "text/plain": [
       "numpy.int64"
      ]
     },
     "execution_count": 16,
     "metadata": {},
     "output_type": "execute_result"
    }
   ],
   "source": [
    "\n",
    "type(df['Date'].max())"
   ]
  },
  {
   "cell_type": "code",
   "execution_count": null,
   "id": "96a2404c-21f4-4e26-8adc-67eb1035aced",
   "metadata": {},
   "outputs": [],
   "source": [
    "avg_series1=df[df['Date']==1].mean()"
   ]
  },
  {
   "cell_type": "code",
   "execution_count": null,
   "id": "a532d30c-c416-492e-a523-3893ccacc2e2",
   "metadata": {},
   "outputs": [],
   "source": [
    "test_df1=pd.DataFrame(avg_series1).transpose()"
   ]
  },
  {
   "cell_type": "code",
   "execution_count": null,
   "id": "42503c2a-0035-4e71-9567-e49defe234cc",
   "metadata": {},
   "outputs": [],
   "source": [
    "avg_series2=df[df['Date']==2].mean()"
   ]
  },
  {
   "cell_type": "code",
   "execution_count": null,
   "id": "84ac9f6e-f8f5-43f9-9af1-bbbdb42ad057",
   "metadata": {},
   "outputs": [],
   "source": [
    "test_df2=pd.DataFrame(avg_series2).transpose()"
   ]
  },
  {
   "cell_type": "code",
   "execution_count": null,
   "id": "b2298fea-928c-4779-9942-640b78526fee",
   "metadata": {},
   "outputs": [
    {
     "data": {
      "text/html": [
       "<div>\n",
       "<style scoped>\n",
       "    .dataframe tbody tr th:only-of-type {\n",
       "        vertical-align: middle;\n",
       "    }\n",
       "\n",
       "    .dataframe tbody tr th {\n",
       "        vertical-align: top;\n",
       "    }\n",
       "\n",
       "    .dataframe thead th {\n",
       "        text-align: right;\n",
       "    }\n",
       "</style>\n",
       "<table border=\"1\" class=\"dataframe\">\n",
       "  <thead>\n",
       "    <tr style=\"text-align: right;\">\n",
       "      <th></th>\n",
       "      <th>Year</th>\n",
       "      <th>Month</th>\n",
       "      <th>Date</th>\n",
       "      <th>Hour</th>\n",
       "      <th>Minute</th>\n",
       "      <th>Second</th>\n",
       "      <th>Record</th>\n",
       "      <th>WS_32m</th>\n",
       "      <th>WD_32m</th>\n",
       "      <th>WS_16m</th>\n",
       "      <th>...</th>\n",
       "      <th>RH_32m</th>\n",
       "      <th>AT_16m</th>\n",
       "      <th>RH_16m</th>\n",
       "      <th>AT_8m</th>\n",
       "      <th>RH_8m</th>\n",
       "      <th>AT_4m</th>\n",
       "      <th>RH_4m</th>\n",
       "      <th>AT_2m</th>\n",
       "      <th>RH_2m</th>\n",
       "      <th>Pressure</th>\n",
       "    </tr>\n",
       "  </thead>\n",
       "  <tbody>\n",
       "    <tr>\n",
       "      <th>0</th>\n",
       "      <td>2017.0</td>\n",
       "      <td>3.0</td>\n",
       "      <td>1.0</td>\n",
       "      <td>11.5</td>\n",
       "      <td>29.5</td>\n",
       "      <td>0.0</td>\n",
       "      <td>63045.5</td>\n",
       "      <td>3.089236</td>\n",
       "      <td>135.153311</td>\n",
       "      <td>2.332069</td>\n",
       "      <td>...</td>\n",
       "      <td>65.796751</td>\n",
       "      <td>28.455914</td>\n",
       "      <td>65.293329</td>\n",
       "      <td>28.068433</td>\n",
       "      <td>65.347942</td>\n",
       "      <td>28.528982</td>\n",
       "      <td>65.130222</td>\n",
       "      <td>28.482677</td>\n",
       "      <td>65.167344</td>\n",
       "      <td>1009.385510</td>\n",
       "    </tr>\n",
       "    <tr>\n",
       "      <th>0</th>\n",
       "      <td>2017.0</td>\n",
       "      <td>3.0</td>\n",
       "      <td>2.0</td>\n",
       "      <td>11.5</td>\n",
       "      <td>29.5</td>\n",
       "      <td>0.0</td>\n",
       "      <td>64485.5</td>\n",
       "      <td>2.825477</td>\n",
       "      <td>170.616935</td>\n",
       "      <td>2.070772</td>\n",
       "      <td>...</td>\n",
       "      <td>66.823947</td>\n",
       "      <td>28.325528</td>\n",
       "      <td>66.476835</td>\n",
       "      <td>27.918807</td>\n",
       "      <td>66.665131</td>\n",
       "      <td>28.396283</td>\n",
       "      <td>66.557910</td>\n",
       "      <td>28.340298</td>\n",
       "      <td>66.636959</td>\n",
       "      <td>1007.761356</td>\n",
       "    </tr>\n",
       "  </tbody>\n",
       "</table>\n",
       "<p>2 rows × 28 columns</p>\n",
       "</div>"
      ],
      "text/plain": [
       "     Year  Month  Date  Hour  Minute  Second   Record    WS_32m      WD_32m  \\\n",
       "0  2017.0    3.0   1.0  11.5    29.5     0.0  63045.5  3.089236  135.153311   \n",
       "0  2017.0    3.0   2.0  11.5    29.5     0.0  64485.5  2.825477  170.616935   \n",
       "\n",
       "     WS_16m  ...     RH_32m     AT_16m     RH_16m      AT_8m      RH_8m  \\\n",
       "0  2.332069  ...  65.796751  28.455914  65.293329  28.068433  65.347942   \n",
       "0  2.070772  ...  66.823947  28.325528  66.476835  27.918807  66.665131   \n",
       "\n",
       "       AT_4m      RH_4m      AT_2m      RH_2m     Pressure  \n",
       "0  28.528982  65.130222  28.482677  65.167344  1009.385510  \n",
       "0  28.396283  66.557910  28.340298  66.636959  1007.761356  \n",
       "\n",
       "[2 rows x 28 columns]"
      ]
     },
     "execution_count": 64,
     "metadata": {},
     "output_type": "execute_result"
    }
   ],
   "source": [
    "pd.concat([test_df1,test_df2])"
   ]
  },
  {
   "cell_type": "code",
   "execution_count": null,
   "id": "dd73662a-51ad-411f-bd6e-e6cb22a9ec94",
   "metadata": {},
   "outputs": [],
   "source": [
    "dff=pd.DataFrame()"
   ]
  },
  {
   "cell_type": "code",
   "execution_count": null,
   "id": "33cf6efc-66f9-457d-a175-c77b8d6d9900",
   "metadata": {},
   "outputs": [
    {
     "data": {
      "text/html": [
       "<div>\n",
       "<style scoped>\n",
       "    .dataframe tbody tr th:only-of-type {\n",
       "        vertical-align: middle;\n",
       "    }\n",
       "\n",
       "    .dataframe tbody tr th {\n",
       "        vertical-align: top;\n",
       "    }\n",
       "\n",
       "    .dataframe thead th {\n",
       "        text-align: right;\n",
       "    }\n",
       "</style>\n",
       "<table border=\"1\" class=\"dataframe\">\n",
       "  <thead>\n",
       "    <tr style=\"text-align: right;\">\n",
       "      <th></th>\n",
       "      <th>Year</th>\n",
       "      <th>Month</th>\n",
       "      <th>Date</th>\n",
       "      <th>Hour</th>\n",
       "      <th>Minute</th>\n",
       "      <th>Second</th>\n",
       "      <th>Record</th>\n",
       "      <th>WS_32m</th>\n",
       "      <th>WD_32m</th>\n",
       "      <th>WS_16m</th>\n",
       "      <th>...</th>\n",
       "      <th>RH_32m</th>\n",
       "      <th>AT_16m</th>\n",
       "      <th>RH_16m</th>\n",
       "      <th>AT_8m</th>\n",
       "      <th>RH_8m</th>\n",
       "      <th>AT_4m</th>\n",
       "      <th>RH_4m</th>\n",
       "      <th>AT_2m</th>\n",
       "      <th>RH_2m</th>\n",
       "      <th>Pressure</th>\n",
       "    </tr>\n",
       "  </thead>\n",
       "  <tbody>\n",
       "    <tr>\n",
       "      <th>0</th>\n",
       "      <td>2017.0</td>\n",
       "      <td>3.0</td>\n",
       "      <td>2.0</td>\n",
       "      <td>11.5</td>\n",
       "      <td>29.5</td>\n",
       "      <td>0.0</td>\n",
       "      <td>64485.5</td>\n",
       "      <td>2.825477</td>\n",
       "      <td>170.616935</td>\n",
       "      <td>2.070772</td>\n",
       "      <td>...</td>\n",
       "      <td>66.823947</td>\n",
       "      <td>28.325528</td>\n",
       "      <td>66.476835</td>\n",
       "      <td>27.918807</td>\n",
       "      <td>66.665131</td>\n",
       "      <td>28.396283</td>\n",
       "      <td>66.55791</td>\n",
       "      <td>28.340298</td>\n",
       "      <td>66.636959</td>\n",
       "      <td>1007.761356</td>\n",
       "    </tr>\n",
       "  </tbody>\n",
       "</table>\n",
       "<p>1 rows × 28 columns</p>\n",
       "</div>"
      ],
      "text/plain": [
       "     Year  Month  Date  Hour  Minute  Second   Record    WS_32m      WD_32m  \\\n",
       "0  2017.0    3.0   2.0  11.5    29.5     0.0  64485.5  2.825477  170.616935   \n",
       "\n",
       "     WS_16m  ...     RH_32m     AT_16m     RH_16m      AT_8m      RH_8m  \\\n",
       "0  2.070772  ...  66.823947  28.325528  66.476835  27.918807  66.665131   \n",
       "\n",
       "       AT_4m     RH_4m      AT_2m      RH_2m     Pressure  \n",
       "0  28.396283  66.55791  28.340298  66.636959  1007.761356  \n",
       "\n",
       "[1 rows x 28 columns]"
      ]
     },
     "execution_count": 66,
     "metadata": {},
     "output_type": "execute_result"
    }
   ],
   "source": [
    "pd.concat([dff,test_df2])"
   ]
  },
  {
   "cell_type": "code",
   "execution_count": null,
   "id": "1fa3a5ca-1194-4eee-8e7a-7f5568ccfd3d",
   "metadata": {},
   "outputs": [],
   "source": []
  }
 ],
 "metadata": {
  "kernelspec": {
   "display_name": "Python 3 (ipykernel)",
   "language": "python",
   "name": "python3"
  },
  "language_info": {
   "codemirror_mode": {
    "name": "ipython",
    "version": 3
   },
   "file_extension": ".py",
   "mimetype": "text/x-python",
   "name": "python",
   "nbconvert_exporter": "python",
   "pygments_lexer": "ipython3",
   "version": "3.8.10"
  }
 },
 "nbformat": 4,
 "nbformat_minor": 5
}
