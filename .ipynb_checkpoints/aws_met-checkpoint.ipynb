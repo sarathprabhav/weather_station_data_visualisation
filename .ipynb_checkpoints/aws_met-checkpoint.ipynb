{
 "cells": [
  {
   "cell_type": "code",
   "execution_count": 12,
   "metadata": {},
   "outputs": [
    {
     "name": "stdout",
     "output_type": "stream",
     "text": [
      "E:\\AWS_tower_met_facility\n"
     ]
    }
   ],
   "source": [
    "cd E:\\AWS_tower_met_facility\\"
   ]
  },
  {
   "cell_type": "code",
   "execution_count": 13,
   "metadata": {},
   "outputs": [],
   "source": [
    "import numpy as np \n",
    "import matplotlib.pyplot as plt \n",
    "import pandas as pd\n",
    "import os\n",
    "from sympy import factorint\n",
    "import calendar\n",
    "import datetime"
   ]
  },
  {
   "cell_type": "code",
   "execution_count": 14,
   "metadata": {},
   "outputs": [
    {
     "data": {
      "text/plain": [
       "'E:\\\\AWS_tower_met_facility'"
      ]
     },
     "execution_count": 14,
     "metadata": {},
     "output_type": "execute_result"
    }
   ],
   "source": [
    "os.getcwd()"
   ]
  },
  {
   "cell_type": "markdown",
   "metadata": {},
   "source": [
    "**Reading Files names**"
   ]
  },
  {
   "cell_type": "code",
   "execution_count": 15,
   "metadata": {},
   "outputs": [],
   "source": [
    "def get_names(prefix,loc):\n",
    "    os.chdir(loc)\n",
    "    return [filename for filename in os.listdir('.') if filename.startswith(prefix)]\n",
    "file_list = get_names('01-201205','2012/') "
   ]
  },
  {
   "cell_type": "code",
   "execution_count": 22,
   "metadata": {},
   "outputs": [],
   "source": [
    "def read_data(file):\n",
    "    return pd.read_csv(file,delimiter=',')\n",
    "\n",
    "data = []\n",
    "for i in file_list:\n",
    "    data.append(read_data(i))"
   ]
  },
  {
   "cell_type": "code",
   "execution_count": 23,
   "metadata": {},
   "outputs": [
    {
     "data": {
      "text/plain": [
       "62"
      ]
     },
     "execution_count": 23,
     "metadata": {},
     "output_type": "execute_result"
    }
   ],
   "source": [
    "len(data)"
   ]
  },
  {
   "cell_type": "code",
   "execution_count": 36,
   "metadata": {},
   "outputs": [
    {
     "name": "stdout",
     "output_type": "stream",
     "text": [
      "Index([u'DateAndTime', u'AirTemp @2m: Min', u'AirTemp @2m: Max',\n",
      "       u'AirTemp @2m: Avg', u'AirTemp @2m: SDv', u'Humidity @2m: Min',\n",
      "       u'Humidity @2m: Max', u'Humidity @2m: Avg', u'Humidity @2m: SDv',\n",
      "       u'WindSp @2m: Min',\n",
      "       ...\n",
      "       u'LongWave Radiation: Avg', u'LongWave Radiation: SDv',\n",
      "       u'RainFall-2: Min', u'RainFall-2: Max', u'RainFall-2: Avg',\n",
      "       u'RainFall-2: SDv', u'Pressure- 01: Min', u'Pressure- 01: Max',\n",
      "       u'Pressure- 01: Avg', u'Pressure- 01: SDv'],\n",
      "      dtype='object', length=165)\n"
     ]
    }
   ],
   "source": [
    "data[0].columns"
   ]
  },
  {
   "cell_type": "markdown",
   "metadata": {},
   "source": [
    "data_n=pd.DataFrame()"
   ]
  },
  {
   "cell_type": "code",
   "execution_count": 49,
   "metadata": {},
   "outputs": [],
   "source": [
    "data_n=data[0][[\"DateAndTime\",\"AirTemp @2m: Avg\",\"Humidity @2m: Avg\",\"WindSp @2m: Avg\",\"WindDir @2m: Avg\",\n",
    "         \"AirTemp @4m: Avg\",\"Humidity @4m: Avg\",\"WindSp @4m: Avg\",\"WindDir @4m: Avg\",\n",
    "         \"AirTemp @8m: Avg\",\"Humidity @8m: Avg\",\"WindSp @8m: Avg\",\"WindDir @8m: Avg\",\n",
    "         \"AirTemp @16m: Avg\",\"Humidity @16m: Avg\",\"WindSp @16m: Avg\",\"WindDir @16m: Avg\",\n",
    "        \"AirTemp @50m: Avg\",\"Humidity @50m: Avg\",\"WindSp @50m: Avg\",\"WindDir @50m: Avg\",\n",
    "        \"ShortWave Radiation: Avg\",\"LongWave Radiation: Avg\",\"RainFall-2: Avg\",\"Pressure- 01: Avg\"]].copy()"
   ]
  },
  {
   "cell_type": "code",
   "execution_count": null,
   "metadata": {},
   "outputs": [],
   "source": []
  }
 ],
 "metadata": {
  "kernelspec": {
   "display_name": "Python 2",
   "language": "python",
   "name": "python2"
  },
  "language_info": {
   "codemirror_mode": {
    "name": "ipython",
    "version": 2
   },
   "file_extension": ".py",
   "mimetype": "text/x-python",
   "name": "python",
   "nbconvert_exporter": "python",
   "pygments_lexer": "ipython2",
   "version": "2.7.15"
  }
 },
 "nbformat": 4,
 "nbformat_minor": 2
}
