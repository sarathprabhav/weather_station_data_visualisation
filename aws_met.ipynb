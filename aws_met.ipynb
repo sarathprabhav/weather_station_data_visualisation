{
 "cells": [
  {
   "cell_type": "markdown",
   "metadata": {},
   "source": [
    "1. Air Temp 2,4,8,16,50\n",
    "2. Humidity ('')\n",
    "3. WindSpeed ()\n",
    "4. Wind Dir\n",
    "5. Sort wave \n",
    "6. Rainfal \n"
   ]
  },
  {
   "cell_type": "code",
   "execution_count": 1,
   "metadata": {},
   "outputs": [],
   "source": [
    "import numpy as np \n",
    "import matplotlib.pyplot as plt \n",
    "import pandas as pd\n",
    "import os\n",
    "from sympy import factorint\n",
    "import calendar\n",
    "import datetime"
   ]
  },
  {
   "cell_type": "code",
   "execution_count": 2,
   "metadata": {},
   "outputs": [
    {
     "data": {
      "text/plain": [
       "'/home/sarathprabhav/git_repos/aws_data_visualisation'"
      ]
     },
     "execution_count": 2,
     "metadata": {},
     "output_type": "execute_result"
    }
   ],
   "source": [
    "os.getcwd()"
   ]
  },
  {
   "cell_type": "code",
   "execution_count": null,
   "metadata": {},
   "outputs": [],
   "source": []
  },
  {
   "cell_type": "code",
   "execution_count": 3,
   "metadata": {},
   "outputs": [],
   "source": [
    "home_dir='/home/sarathprabhav/git_repos/aws_data_visualisation'"
   ]
  },
  {
   "cell_type": "code",
   "execution_count": 4,
   "metadata": {},
   "outputs": [],
   "source": [
    "os.chdir(home_dir)"
   ]
  },
  {
   "cell_type": "code",
   "execution_count": 5,
   "metadata": {},
   "outputs": [],
   "source": [
    "os.chdir('AWS_tower_met_facility/date_input/')"
   ]
  },
  {
   "cell_type": "code",
   "execution_count": 6,
   "metadata": {},
   "outputs": [],
   "source": [
    "year = [2012]"
   ]
  },
  {
   "cell_type": "code",
   "execution_count": 7,
   "metadata": {},
   "outputs": [],
   "source": [
    "date_list = pd.read_csv(str(year[0])+'.csv',delimiter=',')"
   ]
  },
  {
   "cell_type": "code",
   "execution_count": 8,
   "metadata": {},
   "outputs": [],
   "source": [
    "date_list['DATE'] = pd.to_datetime(date_list['DATE'])\n",
    "date_list['DATE_1'] = date_list['DATE'].dt.strftime('%Y%m%d')"
   ]
  },
  {
   "cell_type": "code",
   "execution_count": 9,
   "metadata": {},
   "outputs": [],
   "source": [
    "os.chdir(home_dir)"
   ]
  },
  {
   "cell_type": "code",
   "execution_count": 10,
   "metadata": {},
   "outputs": [],
   "source": [
    "os.chdir('AWS_tower_met_facility/'+str(year[0]))"
   ]
  },
  {
   "cell_type": "code",
   "execution_count": 11,
   "metadata": {},
   "outputs": [],
   "source": [
    "need_colmns = [\"DateAndTime\",\"AirTemp @2m: Avg\",\"Humidity @2m: Avg\",\"WindSp @2m: Avg\",\"WindDir @2m: Avg\",\n",
    "         \"AirTemp @4m: Avg\",\"Humidity @4m: Avg\",\"WindSp @4m: Avg\",\"WindDir @4m: Avg\",\n",
    "         \"AirTemp @8m: Avg\",\"Humidity @8m: Avg\",\"WindSp @8m: Avg\",\"WindDir @8m: Avg\",\n",
    "         \"AirTemp @16m: Avg\",\"Humidity @16m: Avg\",\"WindSp @16m: Avg\",\"WindDir @16m: Avg\",\n",
    "        \"AirTemp @50m: Avg\",\"Humidity @50m: Avg\",\"WindSp @50m: Avg\",\"WindDir @50m: Avg\",\n",
    "        \"ShortWave Radiation: Avg\",\"LongWave Radiation: Avg\",\"RainFall-2: Avg\",\"Pressure- 01: Avg\"]\n",
    "height_list = [' @2m',' @4m',' @8m',' @16m',' @50m'] "
   ]
  },
  {
   "cell_type": "code",
   "execution_count": 12,
   "metadata": {},
   "outputs": [],
   "source": [
    "availbl_date=[]\n",
    "for date in date_list['DATE_1']:\n",
    "    availbl_date.append( [filename for filename in os.listdir('.') if filename.startswith('01-'+date)] )\n",
    "    availbl_date = [ele for ele in availbl_date if ele != []]"
   ]
  },
  {
   "cell_type": "code",
   "execution_count": 30,
   "metadata": {},
   "outputs": [],
   "source": [
    "%matplotlib widget\n",
    "def plot_day(data,date_nm:str):\n",
    "    fig,axes = plt.subplots(ncols=2,nrows=3,sharex=True,figsize=(12,8))\n",
    "    ax = axes.ravel()\n",
    "    for height in height_list: \n",
    "        ax[0].plot(data['AirTemp'+height+': Avg'],alpha=0.7,label = height[2:])\n",
    "        ax[0].legend()\n",
    "    for height in height_list: \n",
    "        ax[1].plot(data['Humidity'+height+': Avg'],alpha=0.7,label = height[2:])\n",
    "        ax[1].legend()\n",
    "    for height in height_list: \n",
    "        ax[2].plot(data['WindSp'+height+': Avg'],alpha=0.7,label = height[2:])\n",
    "        ax[2].legend()\n",
    "    \n",
    "    for height in height_list: \n",
    "        ax[3].plot(data['WindDir'+height+': Avg'],alpha=0.7,label = height[2:])\n",
    "        ax[3].legend()\n",
    "    \n",
    "    \n",
    "    ax[4].plot(data['ShortWave Radiation: Avg'],alpha=0.7)\n",
    "    ax[5].plot(data['RainFall-2: Avg'],alpha=0.7)\n",
    "    fig.suptitle(date_nm)\n",
    "    plt.savefig(date_nm+'.png',dpi=300)\n",
    "    plt.tight_layout()\n",
    "    plt.close()"
   ]
  },
  {
   "cell_type": "code",
   "execution_count": 29,
   "metadata": {
    "tags": []
   },
   "outputs": [],
   "source": [
    "for i,fname in enumerate(availbl_date):\n",
    "    df_01=pd.read_csv(fname[1])\n",
    "    df_02=pd.read_csv(fname[0])\n",
    "    data_need_01=df_01[need_colmns].copy()\n",
    "    data_need_02=df_02[need_colmns].copy()\n",
    "    final_data = pd.concat([data_need_01,data_need_02],axis=0,ignore_index=True)\n",
    "    date_name = fname[0][9:11]+'-'+fname[0][7:9]+'-'+fname[0][3:7]\n",
    "    plot_day(final_data,date_name)\n",
    "    "
   ]
  },
  {
   "cell_type": "code",
   "execution_count": null,
   "metadata": {},
   "outputs": [],
   "source": []
  }
 ],
 "metadata": {
  "kernelspec": {
   "display_name": "Python 3 (ipykernel)",
   "language": "python",
   "name": "python3"
  },
  "language_info": {
   "codemirror_mode": {
    "name": "ipython",
    "version": 3
   },
   "file_extension": ".py",
   "mimetype": "text/x-python",
   "name": "python",
   "nbconvert_exporter": "python",
   "pygments_lexer": "ipython3",
   "version": "3.8.10"
  }
 },
 "nbformat": 4,
 "nbformat_minor": 4
}
